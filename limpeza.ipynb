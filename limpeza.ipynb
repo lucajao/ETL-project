{
 "cells": [
  {
   "cell_type": "code",
   "execution_count": null,
   "id": "93adfab0-2429-44cf-988d-1f4252da8c62",
   "metadata": {},
   "outputs": [],
   "source": [
    "import pandas as pd\n",
    "import pandera as pa"
   ]
  },
  {
   "cell_type": "code",
   "execution_count": null,
   "id": "b48d86e5-9d00-4365-8a0c-a939db6c6662",
   "metadata": {},
   "outputs": [],
   "source": [
    "df = pd.read_csv('ocorrencia_2010_2020.csv', parse_dates=['ocorrencia_dia'], dayfirst=True) \n",
    "df.head()"
   ]
  },
  {
   "cell_type": "code",
   "execution_count": null,
   "id": "807fb8e6-fe0d-469f-9b2a-78c25495afab",
   "metadata": {},
   "outputs": [],
   "source": [
    "df.loc[1, 'ocorrencia_cidade'] # .loc: permite localizar/acessar o dado de uma coluna na tabela"
   ]
  },
  {
   "cell_type": "code",
   "execution_count": null,
   "id": "75a36253-00ce-49c8-b942-8569a3e609d0",
   "metadata": {},
   "outputs": [],
   "source": [
    "df.loc[1:3]"
   ]
  },
  {
   "cell_type": "code",
   "execution_count": null,
   "id": "eb4be3f2-ec24-4ecb-8990-531a2e673d21",
   "metadata": {},
   "outputs": [],
   "source": [
    "df.loc[[10,40]] # filtrar duas linhas distintas da tabela"
   ]
  },
  {
   "cell_type": "code",
   "execution_count": null,
   "id": "56f1c8d0-9dae-4a81-85e5-b4c5fb7fd1de",
   "metadata": {},
   "outputs": [],
   "source": [
    "df.loc[:, 'codigo_ocorrencia'] # filtrar todos os dados de uma coluna específica"
   ]
  },
  {
   "cell_type": "code",
   "execution_count": null,
   "id": "5b1ef465-ae6b-4c13-ba7c-0706627fa507",
   "metadata": {},
   "outputs": [],
   "source": [
    "df.\tcodigo_ocorrencia.is_unique # retorna se há repetição de dados na coluna"
   ]
  },
  {
   "cell_type": "code",
   "execution_count": null,
   "id": "9bdc871e-c6cb-4513-a87f-4af4828f449a",
   "metadata": {},
   "outputs": [],
   "source": [
    "df.set_index('codigo_ocorrencia', inplace=True) #definir os dados de uma coluna como índice"
   ]
  },
  {
   "cell_type": "code",
   "execution_count": null,
   "id": "2e67ecd1-fb22-4d48-af10-4b7ea3d84efe",
   "metadata": {},
   "outputs": [],
   "source": [
    "df.head()"
   ]
  },
  {
   "cell_type": "code",
   "execution_count": null,
   "id": "23ceede2-8f9e-485f-b099-6756a08fe029",
   "metadata": {},
   "outputs": [],
   "source": [
    "df.reset_index(drop=True, inplace=True) # voltar ao index original"
   ]
  },
  {
   "cell_type": "code",
   "execution_count": null,
   "id": "473e8301-57fe-4d83-a1b5-93d45222c8cf",
   "metadata": {},
   "outputs": [],
   "source": [
    "df.head()"
   ]
  },
  {
   "cell_type": "code",
   "execution_count": null,
   "id": "bbc1c05f-5be8-41b6-99be-c981bdaea578",
   "metadata": {},
   "outputs": [],
   "source": [
    "df.loc[0, 'ocorrencia_aerodromo'] = ''"
   ]
  },
  {
   "cell_type": "code",
   "execution_count": null,
   "id": "b023194b-9dda-4582-9f5c-e6ac87321f04",
   "metadata": {},
   "outputs": [],
   "source": [
    "df.head()"
   ]
  },
  {
   "cell_type": "code",
   "execution_count": null,
   "id": "b9181483-9c11-4b09-a886-0972b3d96fcb",
   "metadata": {},
   "outputs": [],
   "source": [
    "df['ocorrencia_bkcp'] = df.ocorrencia_uf"
   ]
  },
  {
   "cell_type": "code",
   "execution_count": null,
   "id": "df0e2a11-802f-4443-9319-5c262edd4e42",
   "metadata": {},
   "outputs": [],
   "source": [
    "df"
   ]
  },
  {
   "cell_type": "code",
   "execution_count": null,
   "id": "38422b04-afbd-4ec1-bd68-e5f5297817c0",
   "metadata": {},
   "outputs": [],
   "source": [
    "df.loc[df.ocorrencia_uf == 'SP', ['ocorrencia_classificacao']] = 'GRAVE' # UPDATE ocorrencia_2010_2020.csv SET ocorrencia_classificacao = 'GRAVE' WHERE ocorrencia_uf = 'SP'"
   ]
  },
  {
   "cell_type": "code",
   "execution_count": null,
   "id": "ea09a999-2320-43ec-aacb-56a8c37b9819",
   "metadata": {},
   "outputs": [],
   "source": [
    "df"
   ]
  },
  {
   "cell_type": "code",
   "execution_count": null,
   "id": "eed877e0-c2da-4394-802e-1af97947b41f",
   "metadata": {},
   "outputs": [],
   "source": [
    "df.loc[df.ocorrencia_uf == 'SP']"
   ]
  },
  {
   "cell_type": "code",
   "execution_count": null,
   "id": "a2603dd6-0b4d-4118-8b99-38322547df60",
   "metadata": {},
   "outputs": [],
   "source": [
    "df"
   ]
  },
  {
   "cell_type": "raw",
   "id": "54c18003-06b8-4f20-9dce-ea0562fb35de",
   "metadata": {},
   "source": [
    "ocorrencia_uf = **\n",
    "ocorrencia_aerodromo = ##! ; #### ; **** ; *****\n",
    "ocorrencia_hora = NULL"
   ]
  },
  {
   "cell_type": "code",
   "execution_count": null,
   "id": "f3d29307-43cb-4ff6-be9c-6a4ea9ad080e",
   "metadata": {},
   "outputs": [],
   "source": [
    "df.head()"
   ]
  },
  {
   "cell_type": "code",
   "execution_count": null,
   "id": "ce49ad45-aefd-4249-a7a5-55d3007d34a2",
   "metadata": {},
   "outputs": [],
   "source": [
    "df.loc[df.ocorrencia_aerodromo == '****', ['ocorrencia_aerodromo']] = pd.NA"
   ]
  },
  {
   "cell_type": "code",
   "execution_count": null,
   "id": "1aefd596-00c9-4f85-b5b2-d9ff0ae72c7f",
   "metadata": {},
   "outputs": [],
   "source": [
    "df.head()"
   ]
  },
  {
   "cell_type": "code",
   "execution_count": null,
   "id": "cb74db63-fcd8-4437-8f83-51de0aaac6ed",
   "metadata": {},
   "outputs": [],
   "source": [
    "df.replace(['##!', '####', '****', '*****', '**', 'NULL'], pd.NA, inplace=True)"
   ]
  },
  {
   "cell_type": "code",
   "execution_count": null,
   "id": "33d8c9e9-3b57-46bb-811a-7a1b91620537",
   "metadata": {},
   "outputs": [],
   "source": [
    "df.isna().sum()"
   ]
  },
  {
   "cell_type": "code",
   "execution_count": null,
   "id": "a58f41fa-2947-40fd-bda5-081c9cb04194",
   "metadata": {},
   "outputs": [],
   "source": [
    "df.fillna(10, inplace=True) # todas as células <NA> receberão o valor 0, porém sem o inplace=True a alteração será somente em tempo de visualização."
   ]
  },
  {
   "cell_type": "code",
   "execution_count": null,
   "id": "badf83be-1153-4720-8521-b59a75aed6b1",
   "metadata": {},
   "outputs": [],
   "source": [
    "df.isna().sum()"
   ]
  },
  {
   "cell_type": "code",
   "execution_count": null,
   "id": "c93ef8ea-ab8a-4430-b737-a435cded0e2c",
   "metadata": {},
   "outputs": [],
   "source": [
    "df.replace([10], pd.NA, inplace=True)"
   ]
  },
  {
   "cell_type": "code",
   "execution_count": null,
   "id": "6ab29b7c-befc-44d7-baab-af3d35de11ad",
   "metadata": {},
   "outputs": [],
   "source": [
    "df.isnull().sum()"
   ]
  },
  {
   "cell_type": "code",
   "execution_count": null,
   "id": "699178ff-7c9b-4021-92ae-b853571ccab7",
   "metadata": {},
   "outputs": [],
   "source": [
    "df.fillna(value={'total_recomendacoes':10}, inplace=True)"
   ]
  },
  {
   "cell_type": "code",
   "execution_count": null,
   "id": "bdae337d-41a0-431d-b39e-604255dca085",
   "metadata": {},
   "outputs": [],
   "source": [
    "df.isnull().sum()"
   ]
  },
  {
   "cell_type": "code",
   "execution_count": null,
   "id": "231291b7-a78b-4d7d-b69b-6a90c9ce7d88",
   "metadata": {},
   "outputs": [],
   "source": [
    "df['total_recomendacoes_bkp'] = df.total_recomendacoes # criar uma coluna de backup"
   ]
  },
  {
   "cell_type": "code",
   "execution_count": null,
   "id": "831cba80-fc8a-4c2c-b5d9-ed8a6a403284",
   "metadata": {},
   "outputs": [],
   "source": [
    "df.head()"
   ]
  },
  {
   "cell_type": "code",
   "execution_count": null,
   "id": "d29321c9-9d32-4923-8a97-9fe524b6f9ff",
   "metadata": {},
   "outputs": [],
   "source": [
    "df.drop(['total_recomendacoes_bkp'], axis=1, inplace=True)"
   ]
  },
  {
   "cell_type": "code",
   "execution_count": null,
   "id": "9f45bbbc-9fe3-42a2-a6d6-34ebfe86a1ea",
   "metadata": {},
   "outputs": [],
   "source": [
    "df.head()"
   ]
  },
  {
   "cell_type": "code",
   "execution_count": null,
   "id": "2f6eef99-ae06-471d-bdb7-20c328e6eabe",
   "metadata": {},
   "outputs": [],
   "source": [
    "df.dropna() #exclui a linha inteira caso alguma célula contenha o valor: <NA>"
   ]
  },
  {
   "cell_type": "code",
   "execution_count": null,
   "id": "c754c178-ead7-4974-9620-a0a924ef56d3",
   "metadata": {},
   "outputs": [],
   "source": [
    "df"
   ]
  },
  {
   "cell_type": "code",
   "execution_count": null,
   "id": "103755d5-7eb1-4681-99e0-2c3cc9e34b7c",
   "metadata": {},
   "outputs": [],
   "source": [
    "df.dropna(subset=['ocorrencia_uf'])"
   ]
  },
  {
   "cell_type": "code",
   "execution_count": null,
   "id": "7120dd08-1643-4eaa-85e8-10486f097245",
   "metadata": {},
   "outputs": [],
   "source": [
    "df"
   ]
  },
  {
   "cell_type": "code",
   "execution_count": null,
   "id": "30885d31-3aea-4195-8e67-5046e914ad7f",
   "metadata": {},
   "outputs": [],
   "source": [
    "df.drop_duplicates(inplace=True) # excluir linhas duplicadas"
   ]
  },
  {
   "cell_type": "code",
   "execution_count": null,
   "id": "e8cdbe63-fa62-47ff-b381-630eafafdbb4",
   "metadata": {},
   "outputs": [],
   "source": [
    "df"
   ]
  },
  {
   "cell_type": "code",
   "execution_count": null,
   "id": "56664869-93e8-48eb-af76-bfcb96f97bbe",
   "metadata": {},
   "outputs": [],
   "source": [
    "df.dtypes"
   ]
  },
  {
   "cell_type": "code",
   "execution_count": null,
   "id": "290c3176-06ad-4fe9-809b-afc583db4af1",
   "metadata": {},
   "outputs": [],
   "source": []
  }
 ],
 "metadata": {
  "kernelspec": {
   "display_name": "Python 3",
   "language": "python",
   "name": "python3"
  },
  "language_info": {
   "codemirror_mode": {
    "name": "ipython",
    "version": 3
   },
   "file_extension": ".py",
   "mimetype": "text/x-python",
   "name": "python",
   "nbconvert_exporter": "python",
   "pygments_lexer": "ipython3",
   "version": "3.8.8"
  }
 },
 "nbformat": 4,
 "nbformat_minor": 5
}
